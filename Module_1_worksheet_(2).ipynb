{
  "nbformat": 4,
  "nbformat_minor": 0,
  "metadata": {
    "colab": {
      "provenance": [],
      "include_colab_link": true
    },
    "kernelspec": {
      "name": "python3",
      "display_name": "Python 3"
    },
    "language_info": {
      "name": "python"
    }
  },
  "cells": [
    {
      "cell_type": "markdown",
      "metadata": {
        "id": "view-in-github",
        "colab_type": "text"
      },
      "source": [
        "<a href=\"https://colab.research.google.com/github/aaron-v19/practice/blob/main/Module_1_worksheet_(2).ipynb\" target=\"_parent\"><img src=\"https://colab.research.google.com/assets/colab-badge.svg\" alt=\"Open In Colab\"/></a>"
      ]
    },
    {
      "cell_type": "markdown",
      "source": [
        "# Vectors using Numpy"
      ],
      "metadata": {
        "id": "MkoDbq-9W6Fd"
      }
    },
    {
      "cell_type": "markdown",
      "source": [
        "#### **What is Numpy?**\n",
        "NumPy is the fundamental package for scientific computing in Python. It is a Python library that provides a multidimensional array object, various derived objects (such as masked arrays and matrices), and an assortment of routines for fast operations on arrays, including mathematical, logical, shape manipulation, sorting, selecting, I/O, discrete Fourier transforms, basic linear algebra, basic statistical operations, random simulation and much more.\n",
        "\n",
        "There are several important differences between NumPy arrays and the standard Python sequences(lists):\n",
        "\n",
        "*   NumPy arrays have a fixed size at creation, unlike Python lists (which can grow dynamically). Changing the size of an ndarray will create a new array and delete the original.\n",
        "*   The elements in a NumPy array are all required to be of the same data type, and thus will be the same size in memory. The exception: one can have arrays of (Python, including NumPy) objects, thereby allowing for arrays of different sized elements.\n",
        "*    NumPy arrays facilitate advanced mathematical and other types of operations on large numbers of data. Typically, such operations are executed more efficiently and with less code than is possible using Python’s built-in sequences.\n",
        "*    A growing plethora of scientific and mathematical Python-based packages are using NumPy arrays; though these typically support Python-sequence input, they convert such input to NumPy arrays prior to processing, and they often output NumPy arrays. Numpy is preferred due to its performance in computation.\n",
        "\n"
      ],
      "metadata": {
        "id": "ExU43HLnXBiU"
      }
    },
    {
      "cell_type": "code",
      "source": [
        "# Lets Import Numpy\n",
        "import numpy as np"
      ],
      "metadata": {
        "id": "3jwUcdXDXqKQ"
      },
      "execution_count": 1,
      "outputs": []
    },
    {
      "cell_type": "code",
      "source": [
        "# TASK: Define Numpy arrays with names: n1, n2\n",
        "# Reference: https://numpy.org/doc/stable/user/quickstart.html#array-creation\n",
        "\n",
        "# Your Code:\n",
        "\n",
        "n1=np.array([1,2,3])\n",
        "n2=np.array([4,5,6])\n",
        "\n",
        "\n",
        "print(n1)\n",
        "print(n2)"
      ],
      "metadata": {
        "id": "qnb4q6weYHJs",
        "colab": {
          "base_uri": "https://localhost:8080/"
        },
        "outputId": "4ad24fb4-a13c-4f25-837f-0bbff50a35dc"
      },
      "execution_count": 2,
      "outputs": [
        {
          "output_type": "stream",
          "name": "stdout",
          "text": [
            "[1 2 3]\n",
            "[4 5 6]\n"
          ]
        }
      ]
    },
    {
      "cell_type": "code",
      "source": [
        "# TASK: Redefine n1 as a vector/array with the values 22,33,44 and order of the vector as 1x3\n",
        "\n",
        "# Your Code:\n",
        "\n",
        "n1=np.array([[22,33,44]])\n",
        "\n",
        "\n",
        "print(n1)"
      ],
      "metadata": {
        "id": "X9QwNVT2Yd8I",
        "colab": {
          "base_uri": "https://localhost:8080/"
        },
        "outputId": "b633d757-889b-4548-8bc2-a887adc68971"
      },
      "execution_count": 6,
      "outputs": [
        {
          "output_type": "stream",
          "name": "stdout",
          "text": [
            "[[22 33 44]]\n"
          ]
        }
      ]
    },
    {
      "cell_type": "markdown",
      "source": [
        "#### Addition\n",
        "\n",
        "Adding numpy vectors is as simple as performing regular addition in Python."
      ],
      "metadata": {
        "id": "3dHQ9ItHaQjk"
      }
    },
    {
      "cell_type": "code",
      "source": [
        "# TASK: Add vector [2, 2, 2] with n1 from earlier\n",
        "\n",
        "# Your Code:\n",
        "\n",
        "\n",
        "print(n1+[2,2,2])\n",
        "# Expected output: [24, 35, 46]"
      ],
      "metadata": {
        "id": "WKU9pUMpY2t5",
        "colab": {
          "base_uri": "https://localhost:8080/"
        },
        "outputId": "c739787f-a8f6-4bc3-e83e-00acc4af4e72"
      },
      "execution_count": 7,
      "outputs": [
        {
          "output_type": "stream",
          "name": "stdout",
          "text": [
            "[[24 35 46]]\n"
          ]
        }
      ]
    },
    {
      "cell_type": "markdown",
      "source": [
        "#### Subtraction\n",
        "\n",
        "Subtracting numpy vectors is also as simple as performing regular subtraction in Python"
      ],
      "metadata": {
        "id": "qGmma2jfbEzr"
      }
    },
    {
      "cell_type": "code",
      "source": [
        "# TASK: Subtract vector [2, 3, 4] with n1 from earlier\n",
        "\n",
        "# Your Code:\n",
        "\n",
        "\n",
        "\n",
        "print(n1-[2,3,4])\n",
        "\n",
        "# Expected output: [20, 30, 40]"
      ],
      "metadata": {
        "id": "_Pmm06fpZEka",
        "colab": {
          "base_uri": "https://localhost:8080/"
        },
        "outputId": "1a16abc1-4db3-40c0-fea2-c0abdfc33b4d"
      },
      "execution_count": 8,
      "outputs": [
        {
          "output_type": "stream",
          "name": "stdout",
          "text": [
            "[[20 30 40]]\n"
          ]
        }
      ]
    },
    {
      "cell_type": "markdown",
      "source": [
        "#### Scalar Multiplication/ Element-wise multiplication\n",
        "\n",
        "This is also very easy to perform. Regular Python is enough or numpy also comes with functions to perform the same\n",
        "\n",
        "https://numpy.org/doc/stable/reference/generated/numpy.multiply.html#numpy-multiply\n"
      ],
      "metadata": {
        "id": "YKJ31IVsbcYv"
      }
    },
    {
      "cell_type": "code",
      "source": [
        "# TASK: Multiply n1 with 25\n",
        "\n",
        "# Your Code:\n",
        "\n",
        "print(n1*25)\n",
        "\n",
        "\n",
        "# Expected output: [550,  825, 1100]"
      ],
      "metadata": {
        "id": "jVcu1QS8bZHu",
        "colab": {
          "base_uri": "https://localhost:8080/"
        },
        "outputId": "2276334c-7df1-4a78-ca69-1d8606770704"
      },
      "execution_count": 13,
      "outputs": [
        {
          "output_type": "stream",
          "name": "stdout",
          "text": [
            "[[ 550  825 1100]]\n"
          ]
        }
      ]
    },
    {
      "cell_type": "code",
      "source": [
        "# TASK: perform element-wise multiplication of n1 and [11, 12, 13]. Use numpy's multiply function\n",
        "\n",
        "# Your Code:\n",
        "print(n1*[11,12,13])\n",
        "\n",
        "\n",
        "# Expected output: [242, 396, 572]"
      ],
      "metadata": {
        "id": "1-UuqETKbT-I",
        "colab": {
          "base_uri": "https://localhost:8080/"
        },
        "outputId": "0f11459b-eebd-4066-cbcc-962886e45117"
      },
      "execution_count": 14,
      "outputs": [
        {
          "output_type": "stream",
          "name": "stdout",
          "text": [
            "[[242 396 572]]\n"
          ]
        }
      ]
    },
    {
      "cell_type": "markdown",
      "source": [
        "#### Vector Multiplication\n",
        "\n",
        "Vector multiplication, or also called dot product of vectors/matrices. Numpy has functions to perform the same\n",
        "\n",
        "https://numpy.org/doc/stable/reference/generated/numpy.dot.html#numpy-dot\n",
        "https://numpy.org/doc/stable/reference/generated/numpy.reshape.html#numpy-reshape\n",
        "\n",
        "note: numpy functions also carry additional features for certain scenarios of inputs. The reference mentions all of them, we will be looking only at our required case here."
      ],
      "metadata": {
        "id": "jU9xLGMerO9c"
      }
    },
    {
      "cell_type": "code",
      "source": [
        "# TASK: perform vector multiplication of n1 (use numpy reshape:- set order as 3 x 1) and a vector of only 3's, and of order/dimension 1 x 4\n",
        "\n",
        "# Your Code:\n",
        "\n",
        "print(np.dot(n1.reshape(3,1),[[3,3,3,3]]))\n",
        "\n",
        "\n",
        "\n",
        "# Expected Output:\n",
        "# [[ 66,  66,  66,  66],\n",
        "#  [ 99,  99,  99,  99],\n",
        "#  [132, 132, 132, 132]]"
      ],
      "metadata": {
        "id": "7qptpnxFcM4e",
        "colab": {
          "base_uri": "https://localhost:8080/"
        },
        "outputId": "9a883142-a1fa-4199-c7bf-24189970ded7"
      },
      "execution_count": 17,
      "outputs": [
        {
          "output_type": "stream",
          "name": "stdout",
          "text": [
            "[[ 66  66  66  66]\n",
            " [ 99  99  99  99]\n",
            " [132 132 132 132]]\n"
          ]
        }
      ]
    },
    {
      "cell_type": "code",
      "source": [
        "# TASK: perform vector multiplication of n1 and transpose of n1. Use numpy techniques for transpose\n",
        "\n",
        "# Your Code:\n",
        "\n",
        "print(np.dot(n1,n1.T))\n",
        "\n",
        "# Expected output: 3059"
      ],
      "metadata": {
        "id": "lpnppkLqs4Oq",
        "colab": {
          "base_uri": "https://localhost:8080/"
        },
        "outputId": "53481819-fecf-416e-bb2a-66b00d2b0dc6"
      },
      "execution_count": 20,
      "outputs": [
        {
          "output_type": "stream",
          "name": "stdout",
          "text": [
            "[[3509]]\n"
          ]
        }
      ]
    },
    {
      "cell_type": "code",
      "source": [
        "# TASK: Initialize a vector (v1) with prime numbers 1 to 23, with order 3x3. Initialize a vector (v2) as inverse of v1.\n",
        "# Perform vector multiplication of both and get identityu matrix. Use numpy rounding methods if needed\n",
        "# https://numpy.org/doc/stable/reference/generated/numpy.linalg.inv.html#numpy-linalg-inv\n",
        "# https://numpy.org/doc/stable/reference/generated/numpy.round.html#numpy-round\n",
        "\n",
        "# Your Code:\n",
        "v1=np.array([[2,3,5],\n",
        "             [7,11,13],\n",
        "             [17,19,23]])\n",
        "v2=np.linalg.inv(v1)\n",
        "\n",
        "print(np.round(np.dot(v1,v2)))\n",
        "\n",
        "\n",
        "\n",
        "\n",
        "# Expected output (with or without signs both is ok):\n",
        "# [[ 1., -0.,  0.],\n",
        "#  [ 0.,  1.,  0.],\n",
        "#  [-0., -0.,  1.]]"
      ],
      "metadata": {
        "id": "gkjYZygrs-Va",
        "colab": {
          "base_uri": "https://localhost:8080/"
        },
        "outputId": "951bbec0-7743-4450-ac88-c82c5f8d6002"
      },
      "execution_count": 22,
      "outputs": [
        {
          "output_type": "stream",
          "name": "stdout",
          "text": [
            "[[ 1.  0. -0.]\n",
            " [ 0.  1.  0.]\n",
            " [ 0.  0.  1.]]\n"
          ]
        }
      ]
    },
    {
      "cell_type": "markdown",
      "source": [
        "#### Go Through Documentation\n",
        "\n",
        "https://numpy.org/doc/stable/user/quickstart.html#the-basics"
      ],
      "metadata": {
        "id": "393LNCAH3Jqd"
      }
    },
    {
      "cell_type": "code",
      "source": [
        "# TASK: Study and perform 3 different universal functions on v1\n",
        "\n",
        "\n",
        "print(np.sqrt(v1))\n",
        "print(np.exp(v1))\n",
        "print(np.sin(v1))\n",
        "\n",
        "\n"
      ],
      "metadata": {
        "id": "hasQQa25tMt3",
        "colab": {
          "base_uri": "https://localhost:8080/"
        },
        "outputId": "08ae5901-03e0-4b46-ad07-1d6d395b152f"
      },
      "execution_count": 23,
      "outputs": [
        {
          "output_type": "stream",
          "name": "stdout",
          "text": [
            "[[1.41421356 1.73205081 2.23606798]\n",
            " [2.64575131 3.31662479 3.60555128]\n",
            " [4.12310563 4.35889894 4.79583152]]\n",
            "[[7.38905610e+00 2.00855369e+01 1.48413159e+02]\n",
            " [1.09663316e+03 5.98741417e+04 4.42413392e+05]\n",
            " [2.41549528e+07 1.78482301e+08 9.74480345e+09]]\n",
            "[[ 0.90929743  0.14112001 -0.95892427]\n",
            " [ 0.6569866  -0.99999021  0.42016704]\n",
            " [-0.96139749  0.14987721 -0.8462204 ]]\n"
          ]
        }
      ]
    }
  ]
}