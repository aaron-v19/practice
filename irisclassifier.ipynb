{
  "nbformat": 4,
  "nbformat_minor": 0,
  "metadata": {
    "colab": {
      "provenance": [],
      "authorship_tag": "ABX9TyMtmhNTt7AK/ONifzUKao54",
      "include_colab_link": true
    },
    "kernelspec": {
      "name": "python3",
      "display_name": "Python 3"
    },
    "language_info": {
      "name": "python"
    }
  },
  "cells": [
    {
      "cell_type": "markdown",
      "metadata": {
        "id": "view-in-github",
        "colab_type": "text"
      },
      "source": [
        "<a href=\"https://colab.research.google.com/github/aaron-v19/practice/blob/main/irisclassifier.ipynb\" target=\"_parent\"><img src=\"https://colab.research.google.com/assets/colab-badge.svg\" alt=\"Open In Colab\"/></a>"
      ]
    },
    {
      "cell_type": "code",
      "execution_count": 2,
      "metadata": {
        "id": "e2T53MoRfGm2"
      },
      "outputs": [],
      "source": [
        "import torch\n",
        "import torch.nn as nn\n",
        "import torch.nn.functional as F\n",
        "import torch.optim as optim\n",
        "import torchvision"
      ]
    },
    {
      "cell_type": "markdown",
      "source": [
        "### Create Model class"
      ],
      "metadata": {
        "id": "YAq7BYc1gaxw"
      }
    },
    {
      "cell_type": "code",
      "source": [
        "class Model(nn.Module):\n",
        "\n",
        "    def __init__(self,features=4,h1=8,h2=8,out=3):\n",
        "        super().__init__()   # instantiate or nn.module\n",
        "        self.fc1=nn.Linear(features,h1)\n",
        "        self.fc2=nn.Linear(h1,h2)\n",
        "        self.fc3=nn.Linear(h2,out)\n",
        "\n",
        "    def forward(self,x):\n",
        "      x=F.relu(self.fc1(x))\n",
        "      x=F.relu(self.fc2(x))\n",
        "      x=self.fc3(x)\n",
        "      return x"
      ],
      "metadata": {
        "id": "g008hATjgIXG"
      },
      "execution_count": 6,
      "outputs": []
    },
    {
      "cell_type": "code",
      "source": [
        "#pick a manual seed for randomation\n",
        "torch.manual_seed(19)\n",
        "# create a instance of model\n",
        "model=Model()"
      ],
      "metadata": {
        "id": "5YFrNdRYiI1V"
      },
      "execution_count": 7,
      "outputs": []
    }
  ]
}