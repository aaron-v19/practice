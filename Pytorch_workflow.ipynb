{
  "nbformat": 4,
  "nbformat_minor": 0,
  "metadata": {
    "colab": {
      "provenance": [],
      "authorship_tag": "ABX9TyP1zxkVs1jlE2k9qpif1CtV",
      "include_colab_link": true
    },
    "kernelspec": {
      "name": "python3",
      "display_name": "Python 3"
    },
    "language_info": {
      "name": "python"
    }
  },
  "cells": [
    {
      "cell_type": "markdown",
      "metadata": {
        "id": "view-in-github",
        "colab_type": "text"
      },
      "source": [
        "<a href=\"https://colab.research.google.com/github/aaron-v19/practice/blob/main/Pytorch_workflow.ipynb\" target=\"_parent\"><img src=\"https://colab.research.google.com/assets/colab-badge.svg\" alt=\"Open In Colab\"/></a>"
      ]
    },
    {
      "cell_type": "markdown",
      "source": [
        "#Pytorch workflow\n"
      ],
      "metadata": {
        "id": "zt9pUmK5Evmd"
      }
    },
    {
      "cell_type": "code",
      "source": [
        "import torch\n",
        "import torch.nn as nn   # nn contains all of PyTorch's building blocks for neural networks\n",
        "import torch.optim as optim\n",
        "from torch.utils.data import DataLoader\n",
        "from torchvision import datasets, transforms\n",
        "import torchvision\n",
        "import torchvision.transforms as transforms\n",
        "import torch.nn.functional as F\n",
        "import matplotlib.pyplot as plt\n",
        "import pandas as pd\n",
        "import numpy as np"
      ],
      "metadata": {
        "id": "d4D1qPgpEuNW"
      },
      "execution_count": null,
      "outputs": []
    },
    {
      "cell_type": "code",
      "source": [
        "what_we_are_learning={1:\"data (prepare and load)\",\n",
        "                      2:\"building model\",\n",
        "                      3:\"fitting model\",\n",
        "                      4:\"making predictions and evaluating model\",\n",
        "                      5:\"saving and loading model\",\n",
        "                      6:\"putting it all together\"\n",
        "}\n",
        "what_we_are_learning"
      ],
      "metadata": {
        "colab": {
          "base_uri": "https://localhost:8080/"
        },
        "id": "pvmolQ2eHDs-",
        "outputId": "34462cba-9748-4e13-a7ea-27a5b4d2d700"
      },
      "execution_count": null,
      "outputs": [
        {
          "output_type": "execute_result",
          "data": {
            "text/plain": [
              "{1: 'data (prepare and load)',\n",
              " 2: 'building model',\n",
              " 3: 'fitting model',\n",
              " 4: 'making predictions and evaluating model',\n",
              " 5: 'saving and loading model',\n",
              " 6: 'putting it all together'}"
            ]
          },
          "metadata": {},
          "execution_count": 30
        }
      ]
    },
    {
      "cell_type": "markdown",
      "source": [
        "# Data (preparing and loading)\n",
        "\n",
        "data can be anything\n",
        "\n",
        "*Excel spreadsheet\n",
        "\n",
        "*Images\n",
        "\n",
        "*Videos\n",
        "\n",
        "*Audio\n",
        "\n",
        "*Text\n",
        "\n",
        "*Custom data\n",
        "\n",
        "*Dna\n",
        "\n",
        "Machine learning is a game of 2 parts:\n",
        "1. Get data into a numerical representation.\n",
        "2. Build a model to learn patterns in that numerical representation.\n",
        "\n",
        "To showcase this lets create some known data using linear regression formula\n",
        "\n",
        "We'll use linear reg formula to make a straight line with *known* **parameters**"
      ],
      "metadata": {
        "id": "BIcCXF-xHzqe"
      }
    },
    {
      "cell_type": "code",
      "source": [
        "# create *known* parameters\n",
        "weight=0.7\n",
        "bias=0.3\n",
        "\n",
        "#create\n",
        "start =0\n",
        "end=1\n",
        "step=0.02\n",
        "X=torch.arange(start,end,step).unsqueeze(dim=1)\n",
        "y=weight*X+bias\n",
        "X[:10],y[:10]"
      ],
      "metadata": {
        "colab": {
          "base_uri": "https://localhost:8080/"
        },
        "id": "0xIMVUQjJkjZ",
        "outputId": "d315fb09-b08d-440b-a7cb-1a1627ecda52"
      },
      "execution_count": null,
      "outputs": [
        {
          "output_type": "execute_result",
          "data": {
            "text/plain": [
              "(tensor([[0.0000],\n",
              "         [0.0200],\n",
              "         [0.0400],\n",
              "         [0.0600],\n",
              "         [0.0800],\n",
              "         [0.1000],\n",
              "         [0.1200],\n",
              "         [0.1400],\n",
              "         [0.1600],\n",
              "         [0.1800]]),\n",
              " tensor([[0.3000],\n",
              "         [0.3140],\n",
              "         [0.3280],\n",
              "         [0.3420],\n",
              "         [0.3560],\n",
              "         [0.3700],\n",
              "         [0.3840],\n",
              "         [0.3980],\n",
              "         [0.4120],\n",
              "         [0.4260]]))"
            ]
          },
          "metadata": {},
          "execution_count": 31
        }
      ]
    },
    {
      "cell_type": "code",
      "source": [
        "len(X),len(y)"
      ],
      "metadata": {
        "id": "zoq9BUwSL8EE",
        "outputId": "d271dd7e-d91e-43a8-a45e-93f57abb56a3",
        "colab": {
          "base_uri": "https://localhost:8080/"
        }
      },
      "execution_count": null,
      "outputs": [
        {
          "output_type": "execute_result",
          "data": {
            "text/plain": [
              "(50, 50)"
            ]
          },
          "metadata": {},
          "execution_count": 32
        }
      ]
    },
    {
      "cell_type": "markdown",
      "source": [
        "##Splitting data into test and training data and validation set\n",
        "\n",
        "Let create training and testing set"
      ],
      "metadata": {
        "id": "2mj2ynQWL_Vz"
      }
    },
    {
      "cell_type": "code",
      "source": [
        "#create a train test split\n",
        "train_split=int(0.8*len(X))\n",
        "X_train,y_train=X[:train_split],y[:train_split]\n",
        "X_test,y_test=X[train_split:],y[train_split:]\n",
        "\n",
        "len(X_train),len(y_train),len(X_test),len(y_test)"
      ],
      "metadata": {
        "id": "r5WT3qJiL6dt",
        "colab": {
          "base_uri": "https://localhost:8080/"
        },
        "outputId": "c8445710-7347-412a-cf91-e22bd3314424"
      },
      "execution_count": null,
      "outputs": [
        {
          "output_type": "execute_result",
          "data": {
            "text/plain": [
              "(40, 40, 10, 10)"
            ]
          },
          "metadata": {},
          "execution_count": 33
        }
      ]
    },
    {
      "cell_type": "markdown",
      "source": [
        "#How to visualize the data"
      ],
      "metadata": {
        "id": "bBZqU-ZeMhtM"
      }
    },
    {
      "cell_type": "code",
      "source": [
        "def plot_predictions(train_data=X_train,\n",
        "                     train_labels=y_train,\n",
        "                     test_data=X_test,\n",
        "                     test_labels=y_test,\n",
        "                     predictions=None):\n",
        "  \"\"\"\n",
        "  Plots training data, test data and compares predictions.\n",
        "  \"\"\"\n",
        "  plt.figure(figsize=(10,7))\n",
        "\n",
        "  #plot training data in blue\n",
        "  plt.scatter(train_data,train_labels,c=\"b\",s=4,label=\"training data\")\n",
        "\n",
        "  #plt test data in green\n",
        "  plt.scatter(test_data,test_labels,c=\"g\",s=4,label=\"test data\")\n",
        "\n",
        "  #Are there predictions?\n",
        "  if predictions is not None:\n",
        "    #plot the prediction if they exist\n",
        "    plt.scatter(test_data,predictions,c=\"r\",s=4,label=\"predictions\")\n",
        "\n",
        "  plt.legend(prop={\"size\":16})"
      ],
      "metadata": {
        "id": "G_bUlXx0Ntem"
      },
      "execution_count": null,
      "outputs": []
    },
    {
      "cell_type": "code",
      "source": [
        "plot_predictions();"
      ],
      "metadata": {
        "colab": {
          "base_uri": "https://localhost:8080/",
          "height": 466
        },
        "id": "4r1Q2e33O0_9",
        "outputId": "1814c6ba-c21a-4f04-993d-e972b2ce2c67"
      },
      "execution_count": null,
      "outputs": [
        {
          "output_type": "display_data",
          "data": {
            "text/plain": [
              "<Figure size 1000x700 with 1 Axes>"
            ],
            "image/png": "[encoded data removed]"
          },
          "metadata": {}
        }
      ]
    },
    {
      "cell_type": "markdown",
      "source": [
        "## Building our first model\n",
        "\n",
        "what our model does ⚛\n",
        "\n",
        "*start with rand val\n",
        "\n",
        "*look at training data and adjust the random values to better represent the ideal values"
      ],
      "metadata": {
        "id": "NmSxwuB5PzAu"
      }
    },
    {
      "cell_type": "code",
      "source": [
        "#Create linear regression model\n",
        "class LinearRegressionModel(nn.Module):\n",
        "  def __init__(self):\n",
        "    super().__init__()\n",
        "    self.weights=nn.Parameter(torch.randn(1,  #<- start with rand val and adjust to ideal val\n",
        "                                          requires_grad=True,#<-can this paramter be updated via gradient descent\n",
        "                                          dtype=torch.float)) #<- Just data type,  pytorch prefers float32\n",
        "    self.bias=nn.Parameter(torch.randn(1,\n",
        "                                       requires_grad=True,\n",
        "                                       dtype=float))\n",
        "\n",
        "  #Forward method to define the computation in the model\n",
        "  def forward(self, x:torch.Tensor):\n",
        "    return self.weights*x+self.bias  #linear regression formula\n",
        "\n"
      ],
      "metadata": {
        "id": "WjQemd9OMiMW"
      },
      "execution_count": null,
      "outputs": []
    },
    {
      "cell_type": "markdown",
      "source": [
        "\n",
        "#PyTorch model building essentials\n",
        "* torch.nn - contains all of the buildings for computational graphs (a neural network can be considered a computational graph)\n",
        "\n",
        "* torch.nn.Parameter - what parameters should our model try and learn, often a PyTorch layer from torch.nn will set these for us\n",
        "\n",
        "* torch.nn.Module - The base class for all neural network modules, if you subclass it, you should overwrite forward()\n",
        "\n",
        "* torch.optim - this where the optimizers in PyTorch live, they will help with gradient descent\n",
        "\n",
        "* def forward() - All nn.Module subclasses require you to overwrite forward(), this method defines what happens in the forward computation\n",
        "\n",
        "See more of these essential modules via the PyTorch cheatsheet - https://pytorch.org/tutorials/beginner/ptcheat.html"
      ],
      "metadata": {
        "id": "ieAh3KsiTYBf"
      }
    },
    {
      "cell_type": "markdown",
      "source": [
        "### Checking contents of our pytorch model\n",
        "\n",
        "Now we've created a model, let's see what's inside...\n",
        "\n",
        "So we can check our model parameters or what's inside our model using 'parameters()'."
      ],
      "metadata": {
        "id": "CoedLimRW4vb"
      }
    },
    {
      "cell_type": "code",
      "source": [
        "#Create a random seed\n",
        "torch.manual_seed(42)\n",
        "\n",
        "#Create an instance of the model (this is a subclass of nn.Module)\n",
        "model_0=LinearRegressionModel()\n",
        "\n",
        "#Check out the parameters\n",
        "list(model_0.parameters())"
      ],
      "metadata": {
        "id": "kCwEliPHvz5d",
        "colab": {
          "base_uri": "https://localhost:8080/"
        },
        "outputId": "396e2227-9169-4c8c-ee12-a4b4bc568608"
      },
      "execution_count": null,
      "outputs": [
        {
          "output_type": "execute_result",
          "data": {
            "text/plain": [
              "[Parameter containing:\n",
              " tensor([0.3367], requires_grad=True),\n",
              " Parameter containing:\n",
              " tensor([0.1288], dtype=torch.float64, requires_grad=True)]"
            ]
          },
          "metadata": {},
          "execution_count": 42
        }
      ]
    },
    {
      "cell_type": "code",
      "source": [
        "#List named parameters\n",
        "model_0.state_dict()"
      ],
      "metadata": {
        "colab": {
          "base_uri": "https://localhost:8080/"
        },
        "id": "9l6YVVO71hmi",
        "outputId": "584c97a3-5cb8-4635-ed50-793562307c5c"
      },
      "execution_count": null,
      "outputs": [
        {
          "output_type": "execute_result",
          "data": {
            "text/plain": [
              "OrderedDict([('weights', tensor([0.3367])),\n",
              "             ('bias', tensor([0.1288], dtype=torch.float64))])"
            ]
          },
          "metadata": {},
          "execution_count": 43
        }
      ]
    },
    {
      "cell_type": "markdown",
      "source": [
        "### Making prediction using torch.inference_mode()\n",
        "To check our model's predictive power 'lets see how well it predicts y_test based on X_test.\n",
        "\n",
        "When we pass data through our model, it's going to run it through the forward() method"
      ],
      "metadata": {
        "id": "8SA2E_gL1uMJ"
      }
    },
    {
      "cell_type": "code",
      "source": [
        "# Make predictions with model\n",
        "with torch.inference_mode():\n",
        "  y_preds=model_0(X_test)\n",
        "\n",
        "#you can also use something similar with torch.no_grad() but inference mode is preferred\n",
        "#with torch.no_grad():\n",
        "#  y_preds=model_0(X_test)\n"
      ],
      "metadata": {
        "id": "iYOjvzrQ11QT"
      },
      "execution_count": null,
      "outputs": []
    },
    {
      "cell_type": "code",
      "source": [
        "y_preds,y_test"
      ],
      "metadata": {
        "colab": {
          "base_uri": "https://localhost:8080/"
        },
        "id": "hLnQ2N_ICKva",
        "outputId": "dfe188c8-21d1-4fac-9cd5-1e13a482dfa0"
      },
      "execution_count": null,
      "outputs": [
        {
          "output_type": "execute_result",
          "data": {
            "text/plain": [
              "(tensor([[0.3982],\n",
              "         [0.4049],\n",
              "         [0.4116],\n",
              "         [0.4184],\n",
              "         [0.4251],\n",
              "         [0.4318],\n",
              "         [0.4386],\n",
              "         [0.4453],\n",
              "         [0.4520],\n",
              "         [0.4588]], dtype=torch.float64),\n",
              " tensor([[0.8600],\n",
              "         [0.8740],\n",
              "         [0.8880],\n",
              "         [0.9020],\n",
              "         [0.9160],\n",
              "         [0.9300],\n",
              "         [0.9440],\n",
              "         [0.9580],\n",
              "         [0.9720],\n",
              "         [0.9860]]))"
            ]
          },
          "metadata": {},
          "execution_count": 50
        }
      ]
    },
    {
      "cell_type": "code",
      "source": [
        "plot_predictions(predictions=y_preds)"
      ],
      "metadata": {
        "colab": {
          "base_uri": "https://localhost:8080/",
          "height": 466
        },
        "id": "FZ5tEZPBDk9O",
        "outputId": "d1ea783b-a829-4018-8fc0-8fdfb81269fb"
      },
      "execution_count": null,
      "outputs": [
        {
          "output_type": "display_data",
          "data": {
            "text/plain": [
              "<Figure size 1000x700 with 1 Axes>"
            ],
            "image/png": "[encoded data removed]"
          },
          "metadata": {}
        }
      ]
    },
    {
      "cell_type": "markdown",
      "source": [
        "\n",
        "#Training model\n",
        "\n",
        "The whole idea of training is for a model to move from some unknown paramters to some known parameters.\n",
        "\n",
        "Or in other words from poor representaion of data to better representation of data.\n",
        "\n",
        "One way to measure how wrong your models predictions are is to use a loss function.\n",
        "\n",
        "To do so, we need some way to measure how wrong our model's predictions are.\n",
        "\n",
        "*Loss function may also be called cost function or criterion in different areas.\n",
        "\n",
        "* **Loss function** measures how wrong your models predictions are to the ideal outputs, lower the output the better\n",
        "* **Optimizer** : Takes into account the loss of a model and adjusts the model's parameters (weight and bias) to improve the loss of the model.\n",
        "\n",
        "And specifically for Pytorch we need:\n",
        "  * A training loop\n",
        "  * A testing loop"
      ],
      "metadata": {
        "id": "lhvgbbn5Dyc6"
      }
    },
    {
      "cell_type": "code",
      "source": [
        "#setup Loss function\n",
        "loss_fn=nn.L1Loss()\n",
        "\n",
        "#setup An Optimizer(Stochastic Gradient Descent)\n",
        "optimizer=torch.optim.SGD(params=model_0.parameters(),\n",
        "                          lr=0.01) #lr=learing rate=possibly the most important hyperparameter you can set\n",
        ""
      ],
      "metadata": {
        "id": "FgL2fh2dL1vf"
      },
      "execution_count": 54,
      "outputs": []
    },
    {
      "cell_type": "markdown",
      "source": [
        "Q: Which loss function and optimizer should I use?\n",
        "\n",
        "A: This will be problem specific. But with experience, you'll get an idea of what works and what doesn't with your particular problem set.\n",
        "\n",
        "For example, for a regression problem (like ours), a loss function of nn.L1Loss() and an optimizer like torch.optim.SGD() will suffice.\n",
        "\n",
        "But for a classification problem like classifying whether a photo is of a dog or a cat, you'll likely want to use a loss function of nn.BCELoss() (binary cross entropy loss)."
      ],
      "metadata": {
        "id": "tUxAA8iBMssB"
      }
    },
    {
      "cell_type": "markdown",
      "source": [
        "##Building a training loop (and a testing loop) in PyTorch\n",
        "A couple of things we need in a training loop:\n",
        "0. Loop through the data and do...\n",
        "\n",
        "1. Forward pass (this involves data moving through our model's forward() functions) to make predictions on data - also called forward propagation\n",
        "2. Calculate the loss (compare forward pass predictions to ground truth labels)\n",
        "3. Optimizer zero grad\n",
        "4. Loss backward - move backwards through the network to calculate the gradients of each of the parameters of our model with respect to the loss (backpropagation - https://www.youtube.com/watch?v=tIeHLnjs5U8)\n",
        "5. Optimizer step - use the optimizer to adjust our model's parameters to try and improve the loss (gradient descent - https://youtu.be/IHZwWFHWa-w)"
      ],
      "metadata": {
        "id": "Do6WgRzvNEvP"
      }
    },
    {
      "cell_type": "code",
      "source": [
        "list(model_0.parameters())"
      ],
      "metadata": {
        "colab": {
          "base_uri": "https://localhost:8080/"
        },
        "id": "RbDhMJIOOIhC",
        "outputId": "e8ced375-beb3-4de6-ab05-eb9434031571"
      },
      "execution_count": 58,
      "outputs": [
        {
          "output_type": "execute_result",
          "data": {
            "text/plain": [
              "[Parameter containing:\n",
              " tensor([0.3367], requires_grad=True),\n",
              " Parameter containing:\n",
              " tensor([0.1288], dtype=torch.float64, requires_grad=True)]"
            ]
          },
          "metadata": {},
          "execution_count": 58
        }
      ]
    },
    {
      "cell_type": "code",
      "source": [
        "#an epoch is one loop through the data ... (this is a hyperparameter because we've set it ourselves )\n",
        "epochs=1\n",
        "\n",
        "#0. Loop thorugh the data\n",
        "for epoch in range(epochs):\n",
        "    #set the model to train mode\n",
        "    model_0.train()  #train mode\n",
        "\n",
        "    #1.Forward Pass\n",
        "    y_pred=model_0(X_train)\n",
        "\n",
        "    #2. Calculate the loss\n",
        "    loss=loss_fn(y_pred,y_train)\n",
        "\n",
        "    #3.Optimizer Zero Gradient\n",
        "    optimizer.zero_grad()\n",
        "\n",
        "    #4. Perform backpropagation on the loss wrt to the parameters of the model\n",
        "    loss.backward()\n",
        "\n",
        "    #5. Step the optimizer (perform greadient descent)\n",
        "    optimizer.step() #by default how the optimizer changes will accumulate through the loop so ... so we have to zero them above in step 3 for the next iteration of the loop\n",
        "\n",
        "    #model_0.eval()#turns of gradient tracking so that evaluation doesn't modify the model parametrs"
      ],
      "metadata": {
        "id": "dCh1z9eMPTcI"
      },
      "execution_count": 59,
      "outputs": []
    },
    {
      "cell_type": "code",
      "source": [
        "epochs=1\n",
        "\n",
        "for epoch in range(epochs):\n",
        "\n",
        "  model_0.train()\n",
        "\n",
        "  y_pred=model_0(X_train)\n",
        "\n",
        "  loss=loss_fn(y_pred,y_train)\n",
        "\n",
        "  optimizer.zero_grad()\n",
        "\n",
        "  loss.backward()\n",
        "\n",
        "  optimizer.step()\n",
        "\n"
      ],
      "metadata": {
        "id": "9EapATZaUVZ4"
      },
      "execution_count": 60,
      "outputs": []
    }
  ]
}