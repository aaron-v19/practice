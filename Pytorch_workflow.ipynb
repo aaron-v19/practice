{
  "nbformat": 4,
  "nbformat_minor": 0,
  "metadata": {
    "colab": {
      "provenance": [],
      "mount_file_id": "1FaD57zeds2zvpzB0NIFiZ3Grsc09pWoc",
      "authorship_tag": "ABX9TyPUsdjVsXDdf/l8Dra0tBGH",
      "include_colab_link": true
    },
    "kernelspec": {
      "name": "python3",
      "display_name": "Python 3"
    },
    "language_info": {
      "name": "python"
    }
  },
  "cells": [
    {
      "cell_type": "markdown",
      "metadata": {
        "id": "view-in-github",
        "colab_type": "text"
      },
      "source": [
        "<a href=\"https://colab.research.google.com/github/aaron-v19/practice/blob/main/Pytorch_workflow.ipynb\" target=\"_parent\"><img src=\"https://colab.research.google.com/assets/colab-badge.svg\" alt=\"Open In Colab\"/></a>"
      ]
    },
    {
      "cell_type": "markdown",
      "source": [
        "#Pytorch workflow\n"
      ],
      "metadata": {
        "id": "zt9pUmK5Evmd"
      }
    },
    {
      "cell_type": "code",
      "source": [
        "import torch\n",
        "import torch.nn as nn   # nn contains all of PyTorch's building blocks for neural networks\n",
        "import torch.optim as optim\n",
        "from torch.utils.data import DataLoader\n",
        "from torchvision import datasets, transforms\n",
        "import torchvision\n",
        "import torchvision.transforms as transforms\n",
        "import torch.nn.functional as F\n",
        "import matplotlib.pyplot as plt\n",
        "import pandas as pd\n",
        "import numpy as np"
      ],
      "metadata": {
        "id": "d4D1qPgpEuNW"
      },
      "execution_count": null,
      "outputs": []
    },
    {
      "cell_type": "code",
      "source": [
        "what_we_are_learning={1:\"data (prepare and load)\",\n",
        "                      2:\"building model\",\n",
        "                      3:\"fitting model\",\n",
        "                      4:\"making predictions and evaluating model\",\n",
        "                      5:\"saving and loading model\",\n",
        "                      6:\"putting it all together\"\n",
        "}\n",
        "what_we_are_learning"
      ],
      "metadata": {
        "colab": {
          "base_uri": "https://localhost:8080/"
        },
        "id": "pvmolQ2eHDs-",
        "outputId": "345fcd7b-f090-4c6e-b720-2047bdac2df5"
      },
      "execution_count": null,
      "outputs": [
        {
          "output_type": "execute_result",
          "data": {
            "text/plain": [
              "{1: 'data (prepare and load)',\n",
              " 2: 'building model',\n",
              " 3: 'fitting model',\n",
              " 4: 'making predictions and evaluating model',\n",
              " 5: 'saving and loading model',\n",
              " 6: 'putting it all together'}"
            ]
          },
          "metadata": {},
          "execution_count": 7
        }
      ]
    },
    {
      "cell_type": "markdown",
      "source": [
        "# Data (preparing and loading)\n",
        "\n",
        "data can be anything\n",
        "\n",
        "*Excel spreadsheet\n",
        "\n",
        "*Images\n",
        "\n",
        "*Videos\n",
        "\n",
        "*Audio\n",
        "\n",
        "*Text\n",
        "\n",
        "*Custom data\n",
        "\n",
        "*Dna\n",
        "\n",
        "Machine learning is a game of 2 parts:\n",
        "1. Get data into a numerical representation.\n",
        "2. Build a model to learn patterns in that numerical representation.\n",
        "\n",
        "To showcase this lets create some known data using linear regression formula\n",
        "\n",
        "We'll use linear reg formula to make a straight line with *known* **parameters**"
      ],
      "metadata": {
        "id": "BIcCXF-xHzqe"
      }
    },
    {
      "cell_type": "code",
      "source": [
        "# create *known* parameters\n",
        "weight=0.7\n",
        "bias=0.3\n",
        "\n",
        "#create\n",
        "start =0\n",
        "end=1\n",
        "step=0.02\n",
        "X=torch.arange(start,end,step).unsqueeze(dim=1)\n",
        "y=weight*X+bias\n",
        "X[:10],y[:10]"
      ],
      "metadata": {
        "colab": {
          "base_uri": "https://localhost:8080/"
        },
        "id": "0xIMVUQjJkjZ",
        "outputId": "1c825bcf-9129-4b36-f279-3c02de6cbeff"
      },
      "execution_count": null,
      "outputs": [
        {
          "output_type": "execute_result",
          "data": {
            "text/plain": [
              "(tensor([[0.0000],\n",
              "         [0.0200],\n",
              "         [0.0400],\n",
              "         [0.0600],\n",
              "         [0.0800],\n",
              "         [0.1000],\n",
              "         [0.1200],\n",
              "         [0.1400],\n",
              "         [0.1600],\n",
              "         [0.1800]]),\n",
              " tensor([[0.3000],\n",
              "         [0.3140],\n",
              "         [0.3280],\n",
              "         [0.3420],\n",
              "         [0.3560],\n",
              "         [0.3700],\n",
              "         [0.3840],\n",
              "         [0.3980],\n",
              "         [0.4120],\n",
              "         [0.4260]]))"
            ]
          },
          "metadata": {},
          "execution_count": 8
        }
      ]
    },
    {
      "cell_type": "code",
      "source": [
        "len(X),len(y)"
      ],
      "metadata": {
        "id": "zoq9BUwSL8EE",
        "outputId": "67c375e1-c5f9-42ef-8442-d30fd283a29e",
        "colab": {
          "base_uri": "https://localhost:8080/"
        }
      },
      "execution_count": null,
      "outputs": [
        {
          "output_type": "execute_result",
          "data": {
            "text/plain": [
              "(50, 50)"
            ]
          },
          "metadata": {},
          "execution_count": 9
        }
      ]
    },
    {
      "cell_type": "markdown",
      "source": [
        "##Splitting data into test and training data and validation set\n",
        "\n",
        "Let create training and testing set"
      ],
      "metadata": {
        "id": "2mj2ynQWL_Vz"
      }
    },
    {
      "cell_type": "code",
      "source": [
        "#create a train test split\n",
        "train_split=int(0.8*len(X))\n",
        "X_train,y_train=X[:train_split],y[:train_split]\n",
        "X_test,y_test=X[train_split:],y[train_split:]\n",
        "\n",
        "len(X_train),len(y_train),len(X_test),len(y_test)"
      ],
      "metadata": {
        "id": "r5WT3qJiL6dt",
        "colab": {
          "base_uri": "https://localhost:8080/"
        },
        "outputId": "22cde11d-a602-4865-cb3a-7dcb6c169412"
      },
      "execution_count": null,
      "outputs": [
        {
          "output_type": "execute_result",
          "data": {
            "text/plain": [
              "(40, 40, 10, 10)"
            ]
          },
          "metadata": {},
          "execution_count": 10
        }
      ]
    },
    {
      "cell_type": "markdown",
      "source": [
        "#How to visualize the data"
      ],
      "metadata": {
        "id": "bBZqU-ZeMhtM"
      }
    },
    {
      "cell_type": "code",
      "source": [
        "def plot_predictions(train_data=X_train,\n",
        "                     train_labels=y_train,\n",
        "                     test_data=X_test,\n",
        "                     test_labels=y_test,\n",
        "                     predictions=None):\n",
        "  \"\"\"\n",
        "  Plots training data, test data and compares predictions.\n",
        "  \"\"\"\n",
        "  plt.figure(figsize=(10,7))\n",
        "\n",
        "  #plot training data in blue\n",
        "  plt.scatter(train_data,train_labels,c=\"b\",s=4,label=\"training data\")\n",
        "\n",
        "  #plt test data in green\n",
        "  plt.scatter(test_data,test_labels,c=\"g\",s=4,label=\"test data\")\n",
        "\n",
        "  #Are there predictions?\n",
        "  if predictions is not None:\n",
        "    #plot the prediction if they exist\n",
        "    plt.scatter(test_data,predictions,c=\"r\",s=4,label=\"predictions\")\n",
        "\n",
        "  plt.legend(prop={\"size\":16})"
      ],
      "metadata": {
        "id": "G_bUlXx0Ntem"
      },
      "execution_count": null,
      "outputs": []
    },
    {
      "cell_type": "code",
      "source": [
        "plot_predictions();"
      ],
      "metadata": {
        "colab": {
          "base_uri": "https://localhost:8080/",
          "height": 466
        },
        "id": "4r1Q2e33O0_9",
        "outputId": "aff78821-2db6-4463-885a-4b6ba41f220f"
      },
      "execution_count": null,
      "outputs": [
        {
          "output_type": "display_data",
          "data": {
            "text/plain": [
              "<Figure size 1000x700 with 1 Axes>"
            ],
            "image/png": "[encoded data removed]"
          },
          "metadata": {}
        }
      ]
    },
    {
      "cell_type": "markdown",
      "source": [
        "## Building our first model\n",
        "\n",
        "what our model does ⚛\n",
        "\n",
        "*start with rand val\n",
        "\n",
        "*look at training data and adjust the random values to better represent the ideal values"
      ],
      "metadata": {
        "id": "NmSxwuB5PzAu"
      }
    },
    {
      "cell_type": "code",
      "source": [
        "#Create linear regression model\n",
        "class LinearRegressionModel(nn.Module):\n",
        "  def __init__(self):\n",
        "    super().__init__()\n",
        "    self.weights=nn.Parameter(torch.randn(1,  #<- start with rand val and adjust to ideal val\n",
        "                                          requires_grad=True,#<-can this paramter be updated via gradient descent\n",
        "                                          dtype=torch.float)) #<- Just data type,  pytorch prefers float32\n",
        "    self.bias=nn.Parameter(torch.randn(1,\n",
        "                                       requires_grad=True,\n",
        "                                       dtype=float))\n",
        "\n",
        "  #Forward method to define the computation in the model\n",
        "  def forward(self, x:torch.Tensor):\n",
        "    return self.weights*x+self.bias  #linear regression formula\n",
        "\n"
      ],
      "metadata": {
        "id": "WjQemd9OMiMW"
      },
      "execution_count": null,
      "outputs": []
    },
    {
      "cell_type": "markdown",
      "source": [
        "\n",
        "#PyTorch model building essentials\n",
        "* torch.nn - contains all of the buildings for computational graphs (a neural network can be considered a computational graph)\n",
        "\n",
        "* torch.nn.Parameter - what parameters should our model try and learn, often a PyTorch layer from torch.nn will set these for us\n",
        "\n",
        "* torch.nn.Module - The base class for all neural network modules, if you subclass it, you should overwrite forward()\n",
        "\n",
        "* torch.optim - this where the optimizers in PyTorch live, they will help with gradient descent\n",
        "\n",
        "* def forward() - All nn.Module subclasses require you to overwrite forward(), this method defines what happens in the forward computation\n",
        "\n",
        "See more of these essential modules via the PyTorch cheatsheet - https://pytorch.org/tutorials/beginner/ptcheat.html"
      ],
      "metadata": {
        "id": "ieAh3KsiTYBf"
      }
    },
    {
      "cell_type": "markdown",
      "source": [
        "### Checking contents of our pytorch model\n",
        "\n",
        "Now we've created a model, let's see what's inside...\n",
        "\n",
        "So we can check our model parameters or what's inside our model using 'parameters()'."
      ],
      "metadata": {
        "id": "CoedLimRW4vb"
      }
    },
    {
      "cell_type": "code",
      "source": [
        "#Create a random seed\n",
        "torch.manual_seed(42)\n",
        "\n",
        "#Create an instance of the model (this is a subclass of nn.Module)\n",
        "model_0=LinearRegressionModel()\n",
        "\n",
        "#Check out the parameters\n",
        "list(model_0.parameters())"
      ],
      "metadata": {
        "id": "kCwEliPHvz5d",
        "colab": {
          "base_uri": "https://localhost:8080/"
        },
        "outputId": "81c8144c-d587-4579-cc98-dc471f6a9929"
      },
      "execution_count": null,
      "outputs": [
        {
          "output_type": "execute_result",
          "data": {
            "text/plain": [
              "[Parameter containing:\n",
              " tensor([0.3367], requires_grad=True),\n",
              " Parameter containing:\n",
              " tensor([0.1288], dtype=torch.float64, requires_grad=True)]"
            ]
          },
          "metadata": {},
          "execution_count": 14
        }
      ]
    },
    {
      "cell_type": "code",
      "source": [
        "#List named parameters\n",
        "model_0.state_dict()"
      ],
      "metadata": {
        "colab": {
          "base_uri": "https://localhost:8080/"
        },
        "id": "9l6YVVO71hmi",
        "outputId": "831fb88e-ee21-447a-c129-c36b2fac44a6"
      },
      "execution_count": null,
      "outputs": [
        {
          "output_type": "execute_result",
          "data": {
            "text/plain": [
              "OrderedDict([('weights', tensor([0.3367])),\n",
              "             ('bias', tensor([0.1288], dtype=torch.float64))])"
            ]
          },
          "metadata": {},
          "execution_count": 15
        }
      ]
    },
    {
      "cell_type": "markdown",
      "source": [
        "### Making prediction using torch.inference_mode()\n",
        "To check our model's predictive power 'lets see how well it predicts y_test based on X_test.\n",
        "\n",
        "When we pass data through our model, it's going to run it through the forward() method"
      ],
      "metadata": {
        "id": "8SA2E_gL1uMJ"
      }
    },
    {
      "cell_type": "code",
      "source": [
        "# Make predictions with model\n",
        "with torch.inference_mode():\n",
        "  y_preds=model_0(X_test)\n",
        "\n",
        "#you can also use something similar with torch.no_grad() but inference mode is preferred\n",
        "#with torch.no_grad():\n",
        "#  y_preds=model_0(X_test)\n"
      ],
      "metadata": {
        "id": "iYOjvzrQ11QT"
      },
      "execution_count": null,
      "outputs": []
    },
    {
      "cell_type": "code",
      "source": [
        "y_preds,y_test"
      ],
      "metadata": {
        "colab": {
          "base_uri": "https://localhost:8080/"
        },
        "id": "hLnQ2N_ICKva",
        "outputId": "08446e19-b143-42e3-cc1c-00b6dec8e838"
      },
      "execution_count": null,
      "outputs": [
        {
          "output_type": "execute_result",
          "data": {
            "text/plain": [
              "(tensor([[0.3982],\n",
              "         [0.4049],\n",
              "         [0.4116],\n",
              "         [0.4184],\n",
              "         [0.4251],\n",
              "         [0.4318],\n",
              "         [0.4386],\n",
              "         [0.4453],\n",
              "         [0.4520],\n",
              "         [0.4588]], dtype=torch.float64),\n",
              " tensor([[0.8600],\n",
              "         [0.8740],\n",
              "         [0.8880],\n",
              "         [0.9020],\n",
              "         [0.9160],\n",
              "         [0.9300],\n",
              "         [0.9440],\n",
              "         [0.9580],\n",
              "         [0.9720],\n",
              "         [0.9860]]))"
            ]
          },
          "metadata": {},
          "execution_count": 17
        }
      ]
    },
    {
      "cell_type": "code",
      "source": [
        "plot_predictions(predictions=y_preds)"
      ],
      "metadata": {
        "colab": {
          "base_uri": "https://localhost:8080/",
          "height": 466
        },
        "id": "FZ5tEZPBDk9O",
        "outputId": "df2b36da-de6d-473b-face-1234b3cc0373"
      },
      "execution_count": null,
      "outputs": [
        {
          "output_type": "display_data",
          "data": {
            "text/plain": [
              "<Figure size 1000x700 with 1 Axes>"
            ],
            "image/png": "[encoded data removed]"
          },
          "metadata": {}
        }
      ]
    },
    {
      "cell_type": "markdown",
      "source": [
        "\n",
        "#Training model\n",
        "\n",
        "The whole idea of training is for a model to move from some unknown paramters to some known parameters.\n",
        "\n",
        "Or in other words from poor representaion of data to better representation of data.\n",
        "\n",
        "One way to measure how wrong your models predictions are is to use a loss function.\n",
        "\n",
        "To do so, we need some way to measure how wrong our model's predictions are.\n",
        "\n",
        "*Loss function may also be called cost function or criterion in different areas.\n",
        "\n",
        "* **Loss function** measures how wrong your models predictions are to the ideal outputs, lower the output the better\n",
        "* **Optimizer** : Takes into account the loss of a model and adjusts the model's parameters (weight and bias) to improve the loss of the model.\n",
        "\n",
        "And specifically for Pytorch we need:\n",
        "  * A training loop\n",
        "  * A testing loop"
      ],
      "metadata": {
        "id": "lhvgbbn5Dyc6"
      }
    },
    {
      "cell_type": "code",
      "source": [
        "#setup Loss function\n",
        "loss_fn=nn.L1Loss()\n",
        "\n",
        "#setup An Optimizer(Stochastic Gradient Descent)\n",
        "optimizer=torch.optim.SGD(params=model_0.parameters(),\n",
        "                          lr=0.01) #lr=learing rate=possibly the most important hyperparameter you can set\n"
      ],
      "metadata": {
        "id": "FgL2fh2dL1vf"
      },
      "execution_count": null,
      "outputs": []
    },
    {
      "cell_type": "markdown",
      "source": [
        "Q: Which loss function and optimizer should I use?\n",
        "\n",
        "A: This will be problem specific. But with experience, you'll get an idea of what works and what doesn't with your particular problem set.\n",
        "\n",
        "For example, for a regression problem (like ours), a loss function of nn.L1Loss() and an optimizer like torch.optim.SGD() will suffice.\n",
        "\n",
        "But for a classification problem like classifying whether a photo is of a dog or a cat, you'll likely want to use a loss function of nn.BCELoss() (binary cross entropy loss)."
      ],
      "metadata": {
        "id": "tUxAA8iBMssB"
      }
    },
    {
      "cell_type": "markdown",
      "source": [
        "##Building a training loop (and a testing loop) in PyTorch\n",
        "A couple of things we need in a training loop:\n",
        "0. Loop through the data and do...\n",
        "\n",
        "1. Forward pass (this involves data moving through our model's forward() functions) to make predictions on data - also called forward propagation\n",
        "2. Calculate the loss (compare forward pass predictions to ground truth labels)\n",
        "3. Optimizer zero grad\n",
        "4. Loss backward - move backwards through the network to calculate the gradients of each of the parameters of our model with respect to the loss (backpropagation - https://www.youtube.com/watch?v=tIeHLnjs5U8)\n",
        "5. Optimizer step - use the optimizer to adjust our model's parameters to try and improve the loss (gradient descent - https://youtu.be/IHZwWFHWa-w)"
      ],
      "metadata": {
        "id": "Do6WgRzvNEvP"
      }
    },
    {
      "cell_type": "code",
      "source": [
        "list(model_0.parameters())"
      ],
      "metadata": {
        "colab": {
          "base_uri": "https://localhost:8080/"
        },
        "id": "RbDhMJIOOIhC",
        "outputId": "cf13ae80-809a-4a0d-a1c0-759eb539bb56"
      },
      "execution_count": null,
      "outputs": [
        {
          "output_type": "execute_result",
          "data": {
            "text/plain": [
              "[Parameter containing:\n",
              " tensor([0.3367], requires_grad=True),\n",
              " Parameter containing:\n",
              " tensor([0.1288], dtype=torch.float64, requires_grad=True)]"
            ]
          },
          "metadata": {},
          "execution_count": 20
        }
      ]
    },
    {
      "cell_type": "code",
      "source": [
        "#an epoch is one loop through the data ... (this is a hyperparameter because we've set it ourselves )\n",
        "epochs=200\n",
        "\n",
        "#track different values\n",
        "epoch_count=[]\n",
        "loss_values=[]\n",
        "test_loss_values=[]\n",
        "\n",
        "#0. Loop thorugh the data\n",
        "for epoch in range(epochs):\n",
        "    #set the model to train mode\n",
        "    model_0.train()  #train mode\n",
        "\n",
        "    #1.Forward Pass\n",
        "    y_pred=model_0(X_train)\n",
        "\n",
        "    #2. Calculate the loss\n",
        "    loss=loss_fn(y_pred,y_train)\n",
        "    #3.Optimizer Zero Gradient\n",
        "    optimizer.zero_grad()\n",
        "\n",
        "    #4. Perform backpropagation on the loss wrt to the parameters of the model\n",
        "    loss.backward()\n",
        "\n",
        "    #5. Step the optimizer (perform greadient descent)\n",
        "    optimizer.step() #by default how the optimizer changes will accumulate through the loop so ... so we have to zero them above in step 3 for the next iteration of the loop\n",
        "    #testing\n",
        "    model_0.eval()#turns of gradient tracking so that evaluation doesn't modify the model parametrs\n",
        "    with torch.inference_mode():\n",
        "      #1. Do the forward pass\n",
        "      test_pred=model_0(X_test)\n",
        "\n",
        "      #2. Calc the loss\n",
        "      test_loss=loss_fn(test_pred,y_test)\n",
        "\n",
        "      #printout\n",
        "      if epoch%10==0:\n",
        "        epoch_count.append(epoch)\n",
        "        loss_values.append(loss)\n",
        "        test_loss_values.append(test_loss)\n",
        "        print(f\"Epoch:{epoch} | Loss:{loss}| Test Loss:{test_loss}\")\n",
        "        #print out model state_dict\n",
        "        print(model_0.state_dict())"
      ],
      "metadata": {
        "colab": {
          "base_uri": "https://localhost:8080/"
        },
        "collapsed": true,
        "id": "dCh1z9eMPTcI",
        "outputId": "3672f06c-2c35-456b-e0a1-c972a4e2400b"
      },
      "execution_count": null,
      "outputs": [
        {
          "output_type": "stream",
          "name": "stdout",
          "text": [
            "Epoch:0 | Loss:0.3128813517678373| Test Loss:0.4810651795382455\n",
            "OrderedDict([('weights', tensor([0.3406])), ('bias', tensor([0.1388], dtype=torch.float64))])\n",
            "Epoch:10 | Loss:0.19767138632506426| Test Loss:0.346355255078788\n",
            "OrderedDict([('weights', tensor([0.3796])), ('bias', tensor([0.2388], dtype=torch.float64))])\n",
            "Epoch:20 | Loss:0.08908726094682914| Test Loss:0.21729659528684148\n",
            "OrderedDict([('weights', tensor([0.4184])), ('bias', tensor([0.3333], dtype=torch.float64))])\n",
            "Epoch:30 | Loss:0.05314853437903411| Test Loss:0.14464020247411263\n",
            "OrderedDict([('weights', tensor([0.4512])), ('bias', tensor([0.3768], dtype=torch.float64))])\n",
            "Epoch:40 | Loss:0.045437965798191725| Test Loss:0.11360953504991064\n",
            "OrderedDict([('weights', tensor([0.4748])), ('bias', tensor([0.3868], dtype=torch.float64))])\n",
            "Epoch:50 | Loss:0.04167863324115598| Test Loss:0.09919951553296583\n",
            "OrderedDict([('weights', tensor([0.4938])), ('bias', tensor([0.3843], dtype=torch.float64))])\n",
            "Epoch:60 | Loss:0.03818932177440422| Test Loss:0.08886642379712592\n",
            "OrderedDict([('weights', tensor([0.5116])), ('bias', tensor([0.3788], dtype=torch.float64))])\n",
            "Epoch:70 | Loss:0.034760872570398914| Test Loss:0.08059396738957894\n",
            "OrderedDict([('weights', tensor([0.5288])), ('bias', tensor([0.3718], dtype=torch.float64))])\n",
            "Epoch:80 | Loss:0.031323813460567805| Test Loss:0.07232151694249642\n",
            "OrderedDict([('weights', tensor([0.5459])), ('bias', tensor([0.3648], dtype=torch.float64))])\n",
            "Epoch:90 | Loss:0.027887361238497978| Test Loss:0.06473595685910709\n",
            "OrderedDict([('weights', tensor([0.5629])), ('bias', tensor([0.3573], dtype=torch.float64))])\n",
            "Epoch:100 | Loss:0.024458912034492648| Test Loss:0.056463512372489165\n",
            "OrderedDict([('weights', tensor([0.5800])), ('bias', tensor([0.3503], dtype=torch.float64))])\n",
            "Epoch:110 | Loss:0.021020179208354882| Test Loss:0.048191052984709826\n",
            "OrderedDict([('weights', tensor([0.5972])), ('bias', tensor([0.3433], dtype=torch.float64))])\n",
            "Epoch:120 | Loss:0.01758540265836911| Test Loss:0.040605486940856125\n",
            "OrderedDict([('weights', tensor([0.6141])), ('bias', tensor([0.3358], dtype=torch.float64))])\n",
            "Epoch:130 | Loss:0.014155357881994759| Test Loss:0.0323330275530769\n",
            "OrderedDict([('weights', tensor([0.6313])), ('bias', tensor([0.3288], dtype=torch.float64))])\n",
            "Epoch:140 | Loss:0.010716548774564513| Test Loss:0.02406058902692334\n",
            "OrderedDict([('weights', tensor([0.6485])), ('bias', tensor([0.3218], dtype=torch.float64))])\n",
            "Epoch:150 | Loss:0.007283442308727353| Test Loss:0.016475022983069642\n",
            "OrderedDict([('weights', tensor([0.6654])), ('bias', tensor([0.3143], dtype=torch.float64))])\n",
            "Epoch:160 | Loss:0.0038517246542366657| Test Loss:0.008202572535987019\n",
            "OrderedDict([('weights', tensor([0.6826])), ('bias', tensor([0.3073], dtype=torch.float64))])\n",
            "Epoch:170 | Loss:0.008931417997662885| Test Loss:0.0050241684431983295\n",
            "OrderedDict([('weights', tensor([0.6951])), ('bias', tensor([0.2993], dtype=torch.float64))])\n",
            "Epoch:180 | Loss:0.008931417997662885| Test Loss:0.0050241684431983295\n",
            "OrderedDict([('weights', tensor([0.6951])), ('bias', tensor([0.2993], dtype=torch.float64))])\n",
            "Epoch:190 | Loss:0.008931417997662885| Test Loss:0.0050241684431983295\n",
            "OrderedDict([('weights', tensor([0.6951])), ('bias', tensor([0.2993], dtype=torch.float64))])\n"
          ]
        }
      ]
    },
    {
      "cell_type": "code",
      "source": [
        "with torch.inference_mode():\n",
        "  y_preds_new=model_0(X_test)"
      ],
      "metadata": {
        "id": "d1-KNwa0esRC"
      },
      "execution_count": null,
      "outputs": []
    },
    {
      "cell_type": "code",
      "source": [
        "plot_predictions(predictions=y_preds)"
      ],
      "metadata": {
        "colab": {
          "base_uri": "https://localhost:8080/",
          "height": 466
        },
        "id": "oVovtJoHfcZH",
        "outputId": "14d79dd7-7263-4299-9493-7def48d543a6"
      },
      "execution_count": null,
      "outputs": [
        {
          "output_type": "display_data",
          "data": {
            "text/plain": [
              "<Figure size 1000x700 with 1 Axes>"
            ],
            "image/png": "[encoded data removed]"
          },
          "metadata": {}
        }
      ]
    },
    {
      "cell_type": "code",
      "source": [
        "plot_predictions(predictions=y_preds_new)"
      ],
      "metadata": {
        "colab": {
          "base_uri": "https://localhost:8080/",
          "height": 466
        },
        "id": "HtBpu4aZfkQ-",
        "outputId": "69138898-6783-40c8-e7bf-9e89f9d0724f"
      },
      "execution_count": null,
      "outputs": [
        {
          "output_type": "display_data",
          "data": {
            "text/plain": [
              "<Figure size 1000x700 with 1 Axes>"
            ],
            "image/png": "[encoded data removed]"
          },
          "metadata": {}
        }
      ]
    },
    {
      "cell_type": "code",
      "source": [
        "#plot the loss curve\n",
        "import numpy as np\n",
        "plt.plot(epoch_count,np.array(torch.tensor(loss_values).numpy()),label=\"Training loss\")\n",
        "plt.plot(epoch_count,test_loss_values,label=\"Test_loss\")\n",
        "plt.title(\"Training and test loss curves\")\n",
        "plt.xlabel(\"Epoch\")\n",
        "plt.ylabel(\"Loss\")\n",
        "plt.legend();"
      ],
      "metadata": {
        "colab": {
          "base_uri": "https://localhost:8080/",
          "height": 472
        },
        "id": "or40Z8izka3_",
        "outputId": "0e35bf20-24c2-42d3-de85-28bb6d879533"
      },
      "execution_count": null,
      "outputs": [
        {
          "output_type": "display_data",
          "data": {
            "text/plain": [
              "<Figure size 640x480 with 1 Axes>"
            ],
            "image/png": "[encoded data removed]"
          },
          "metadata": {}
        }
      ]
    },
    {
      "cell_type": "markdown",
      "source": [
        "#Saving a Model in pytorch\n",
        "\n",
        "There are three main methods you should be aware of when saving and loading models in PyTorch\n",
        "\n",
        "1. torch.save() - allows you to save a PyTorch object in Python's pickle format\n",
        "2. torch.load() - allows you to load a saved PyTorch object\n",
        "3. torch.nn.Module.load_state_dict() - this allows you to load a model's saved state dictionary\n"
      ],
      "metadata": {
        "id": "wjdFsWTImgGc"
      }
    },
    {
      "cell_type": "code",
      "source": [
        "from pathlib import Path\n",
        "#1. saving our Pytorch model\n",
        "MODEL_PATH=Path(\"/content/drive/MyDrive/PracticeModels\")\n",
        "MODEL_PATH.mkdir(parents=True,exist_ok=True)\n",
        "\n",
        "#2. Create Model\n",
        "MODEL_NAME=\"Pytorch_workflow_model_0.pth\"\n",
        "MODEL_SAVE_PATH=MODEL_PATH/MODEL_NAME\n",
        "\n",
        "#3. Save Model state dict\n",
        "print(f\"Saving model to: {MODEL_SAVE_PATH}\")\n",
        "torch.save(obj=model_0.state_dict(),f=MODEL_SAVE_PATH)"
      ],
      "metadata": {
        "colab": {
          "base_uri": "https://localhost:8080/"
        },
        "id": "YpU8L7hfojV8",
        "outputId": "ec20375f-6e41-4944-956a-0c8750a7d080"
      },
      "execution_count": null,
      "outputs": [
        {
          "output_type": "stream",
          "name": "stdout",
          "text": [
            "Saving model to: /content/drive/MyDrive/PracticeModels/Pytorch_workflow_model_0.pth\n"
          ]
        }
      ]
    },
    {
      "cell_type": "code",
      "source": [
        "from google.colab import drive\n",
        "drive.mount('/content/drive')"
      ],
      "metadata": {
        "colab": {
          "base_uri": "https://localhost:8080/"
        },
        "id": "mbdur58HXu9W",
        "outputId": "3eec5e9c-c4fc-41d4-eef4-1418cb130c0c"
      },
      "execution_count": null,
      "outputs": [
        {
          "output_type": "stream",
          "name": "stdout",
          "text": [
            "Drive already mounted at /content/drive; to attempt to forcibly remount, call drive.mount(\"/content/drive\", force_remount=True).\n"
          ]
        }
      ]
    },
    {
      "cell_type": "markdown",
      "source": [
        "#Loading a Pytorch Model\n",
        "\n",
        "Since we saved our model's state_dict() rather than the entire model, we need to create an instance of the model first and then load in the state_dict() in that."
      ],
      "metadata": {
        "id": "_QMta6TwYmVq"
      }
    },
    {
      "cell_type": "code",
      "source": [
        "model_0.state_dict()"
      ],
      "metadata": {
        "colab": {
          "base_uri": "https://localhost:8080/"
        },
        "id": "RtUH0O74oK_F",
        "outputId": "d0d69302-fbc3-4772-fa00-789d51fee269"
      },
      "execution_count": null,
      "outputs": [
        {
          "output_type": "execute_result",
          "data": {
            "text/plain": [
              "OrderedDict([('weights', tensor([0.6990])),\n",
              "             ('bias', tensor([0.3093], dtype=torch.float64))])"
            ]
          },
          "metadata": {},
          "execution_count": 25
        }
      ]
    },
    {
      "cell_type": "code",
      "source": [
        "#To load a saved state we have to instantiate a new instance of our model class\n",
        "loaded_model_0=LinearRegressionModel()\n",
        "\n",
        "#Load the saved state_dict() of model_0 to the above\n",
        "loaded_model_0.load_state_dict(torch.load(f=MODEL_SAVE_PATH))"
      ],
      "metadata": {
        "colab": {
          "base_uri": "https://localhost:8080/"
        },
        "id": "NQcB8CYxnM1_",
        "outputId": "66ceb465-a91d-462a-afdc-09652d17e6f7"
      },
      "execution_count": null,
      "outputs": [
        {
          "output_type": "execute_result",
          "data": {
            "text/plain": [
              "<All keys matched successfully>"
            ]
          },
          "metadata": {},
          "execution_count": 28
        }
      ]
    },
    {
      "cell_type": "code",
      "source": [
        "loaded_model_0.state_dict()"
      ],
      "metadata": {
        "colab": {
          "base_uri": "https://localhost:8080/"
        },
        "id": "eEcV87wpoisE",
        "outputId": "b3bde0d0-edfc-41ea-c762-1943b2bf7928"
      },
      "execution_count": null,
      "outputs": [
        {
          "output_type": "execute_result",
          "data": {
            "text/plain": [
              "OrderedDict([('weights', tensor([0.6990])),\n",
              "             ('bias', tensor([0.3093], dtype=torch.float64))])"
            ]
          },
          "metadata": {},
          "execution_count": 29
        }
      ]
    },
    {
      "cell_type": "code",
      "source": [
        "#make some prediction with our loaded model\n",
        "loaded_model_0.eval()\n",
        "with torch.inference_mode():\n",
        "  loade_model_preds=loaded_model_0(X_test)\n",
        "\n",
        "loade_model_preds"
      ],
      "metadata": {
        "colab": {
          "base_uri": "https://localhost:8080/"
        },
        "id": "Y2UbosU4om8_",
        "outputId": "0ee111f7-355c-44af-8f72-f9c5ee3f7c06"
      },
      "execution_count": null,
      "outputs": [
        {
          "output_type": "execute_result",
          "data": {
            "text/plain": [
              "tensor([[0.8685],\n",
              "        [0.8825],\n",
              "        [0.8965],\n",
              "        [0.9105],\n",
              "        [0.9245],\n",
              "        [0.9384],\n",
              "        [0.9524],\n",
              "        [0.9664],\n",
              "        [0.9804],\n",
              "        [0.9944]], dtype=torch.float64)"
            ]
          },
          "metadata": {},
          "execution_count": 30
        }
      ]
    },
    {
      "cell_type": "code",
      "source": [
        "y_preds_new==loade_model_preds"
      ],
      "metadata": {
        "colab": {
          "base_uri": "https://localhost:8080/"
        },
        "id": "lXmWn-Svpq9v",
        "outputId": "1b10d70e-63f4-4a75-eaee-34dd3afc2a39"
      },
      "execution_count": null,
      "outputs": [
        {
          "output_type": "execute_result",
          "data": {
            "text/plain": [
              "tensor([[True],\n",
              "        [True],\n",
              "        [True],\n",
              "        [True],\n",
              "        [True],\n",
              "        [True],\n",
              "        [True],\n",
              "        [True],\n",
              "        [True],\n",
              "        [True]])"
            ]
          },
          "metadata": {},
          "execution_count": 32
        }
      ]
    },
    {
      "cell_type": "code",
      "source": [
        "##"
      ],
      "metadata": {
        "id": "UBOqo8pUsL2x"
      },
      "execution_count": null,
      "outputs": []
    }
  ]
}